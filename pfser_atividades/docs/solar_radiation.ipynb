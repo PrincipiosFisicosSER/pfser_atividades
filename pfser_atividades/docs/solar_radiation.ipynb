{
 "cells": [
  {
   "cell_type": "markdown",
   "metadata": {},
   "source": [
    "# Solar Radiation\n",
    "\n",
    "Notebook with usage examples for module solar_radiation.py"
   ]
  },
  {
   "cell_type": "code",
   "execution_count": 1,
   "metadata": {},
   "outputs": [],
   "source": [
    "from pfser_atividades import solar_radiation"
   ]
  },
  {
   "cell_type": "code",
   "execution_count": 2,
   "metadata": {},
   "outputs": [],
   "source": [
    "latitude = -22.60877\n",
    "date = '2022-01-17'\n",
    "time = '14:10'"
   ]
  },
  {
   "cell_type": "code",
   "execution_count": 4,
   "metadata": {},
   "outputs": [],
   "source": [
    "julian_day = solar_radiation.get_julian_day(date)\n",
    "day_angle = solar_radiation.compute_day_angle(date)\n",
    "ang_hor_sol = solar_radiation.compute_sum_hour(time)\n",
    "decl_sol = solar_radiation.compute_sum_declination(day_angle)\n",
    "corr_factor = solar_radiation.compute_excentric_corr_factor(day_angle)\n",
    "ang_zenital, cos_ang_zenital = solar_radiation.compute_zenith_angle(decl_sol, ang_hor_sol, latitude)\n",
    "irradiation = solar_radiation.compute_irradiation(corr_factor, decl_sol, ang_hor_sol, latitude)\n",
    "irradiance = solar_radiation.compute_irradiance(irradiation)"
   ]
  },
  {
   "cell_type": "code",
   "execution_count": 5,
   "metadata": {},
   "outputs": [
    {
     "name": "stdout",
     "output_type": "stream",
     "text": [
      "\n",
      "Dia Juliano: 17\n",
      "ângulo horário: 0.5672320068981569\n",
      "ângulo dia: 0.2754273011366394\n",
      "delicnação solar: -0.3648366953327642\n",
      "ângulo zenital: 30.174418646980044\n",
      "E zero: 1.034042232120641\n",
      "irradiação solar no topo da atmosfera: 4399.202359002961\n",
      "irradiância: 1222.0006552786003\n",
      "\n"
     ]
    }
   ],
   "source": [
    "print(f\"\"\"\n",
    "Dia Juliano: {julian_day}\n",
    "ângulo horário: {ang_hor_sol}\n",
    "ângulo dia: {day_angle}\n",
    "delicnação solar: {decl_sol}\n",
    "ângulo zenital: {ang_zenital}\n",
    "E zero: {corr_factor}\n",
    "irradiação solar no topo da atmosfera: {irradiation}\n",
    "irradiância: {irradiance}\n",
    "\"\"\")"
   ]
  }
 ],
 "metadata": {
  "interpreter": {
   "hash": "9b400163043ab19975f10e09f3b8984b1b3e87fec69b728c00cc6ab14f929346"
  },
  "kernelspec": {
   "display_name": "Python 3.8.13 ('pfser_2022')",
   "language": "python",
   "name": "python3"
  },
  "language_info": {
   "codemirror_mode": {
    "name": "ipython",
    "version": 3
   },
   "file_extension": ".py",
   "mimetype": "text/x-python",
   "name": "python",
   "nbconvert_exporter": "python",
   "pygments_lexer": "ipython3",
   "version": "3.8.13"
  },
  "orig_nbformat": 4
 },
 "nbformat": 4,
 "nbformat_minor": 2
}
