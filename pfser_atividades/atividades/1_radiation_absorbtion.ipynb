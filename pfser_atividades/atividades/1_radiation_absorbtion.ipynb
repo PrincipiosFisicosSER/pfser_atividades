{
 "cells": [
  {
   "cell_type": "markdown",
   "metadata": {},
   "source": [
    "# Exercício Cap. 10 - transmitância de gases misturados na atmosfera e da água pura."
   ]
  },
  {
   "cell_type": "code",
   "execution_count": 1,
   "metadata": {},
   "outputs": [],
   "source": [
    "import numpy as np\n",
    "from matplotlib import pyplot as plt\n",
    "\n",
    "from pfser_atividades import sum_radiation, atmosphere, transmitance, plots"
   ]
  },
  {
   "cell_type": "markdown",
   "metadata": {},
   "source": [
    "## Sum radiance"
   ]
  },
  {
   "cell_type": "code",
   "execution_count": 2,
   "metadata": {},
   "outputs": [],
   "source": [
    "# Parameters\n",
    "\n",
    "latitude = -22.60877\n",
    "date = '2022-01-17'\n",
    "time = '14:10'\n",
    "\n",
    "sum_constant_wavelength = {\n",
    "    '460nm': 2099.99,\n",
    "    '540nm': 1857.50,\n",
    "    '650nm': 1597.50,\n",
    "    '760nm': 1222.50,\n",
    "    '800nm': 1144.70,\n",
    "}"
   ]
  },
  {
   "cell_type": "code",
   "execution_count": 3,
   "metadata": {},
   "outputs": [],
   "source": [
    "julian_day = sum_radiation.get_julian_day(date)\n",
    "day_angle = sum_radiation.compute_day_angle(date)\n",
    "sum_hour = sum_radiation.compute_sum_hour(time)\n",
    "sum_declination = sum_radiation.compute_sum_declination(day_angle)\n",
    "corr_factor = sum_radiation.compute_excentric_corr_factor(day_angle)\n",
    "zenith_angle, cos_zenith_angle = sum_radiation.compute_zenith_angle(sum_declination, sum_hour, latitude)"
   ]
  },
  {
   "cell_type": "code",
   "execution_count": 4,
   "metadata": {},
   "outputs": [],
   "source": [
    "# Computing irradiance and radiance for each wavelengh\n",
    "\n",
    "irradiance_parameters = {\n",
    "    'correction_factor': corr_factor,\n",
    "    'sum_declination': sum_declination,\n",
    "    'sum_hour': sum_hour, \n",
    "    'latitude': latitude,\n",
    "}\n",
    "\n",
    "irradiance = {wavelength: sum_radiation.compute_irradiance(sum_constant=sum_constant, **irradiance_parameters) \n",
    "              for wavelength, sum_constant in sum_constant_wavelength.items()}\n",
    "radiance = {wavelength: sum_radiation.compute_radiance(irradiance_) for wavelength, irradiance_ in irradiance.items()}"
   ]
  },
  {
   "cell_type": "markdown",
   "metadata": {},
   "source": [
    "#### Optical paths"
   ]
  },
  {
   "cell_type": "code",
   "execution_count": 5,
   "metadata": {},
   "outputs": [],
   "source": [
    "max_altitude = 1000000 # altitude in cm (since our coefficients are in this scale)\n",
    "max_depth = 200 # depth in meters"
   ]
  },
  {
   "cell_type": "code",
   "execution_count": 6,
   "metadata": {},
   "outputs": [],
   "source": [
    "altitude = np.linspace(0, max_altitude, num=100)\n",
    "depth = np.linspace(0, max_depth, num=100)"
   ]
  },
  {
   "cell_type": "code",
   "execution_count": 7,
   "metadata": {},
   "outputs": [],
   "source": [
    "optical_path_atmosphere = transmitance.optical_path(altitude, cos_zenith_angle)\n",
    "optical_path_water = transmitance.optical_path(depth, cos_zenith_angle)"
   ]
  },
  {
   "cell_type": "markdown",
   "metadata": {},
   "source": [
    "## Computing absorbtion coefficients"
   ]
  },
  {
   "cell_type": "markdown",
   "metadata": {},
   "source": [
    "### Atmosphere"
   ]
  },
  {
   "cell_type": "markdown",
   "metadata": {},
   "source": [
    "#### Computing gas molecule density"
   ]
  },
  {
   "cell_type": "code",
   "execution_count": 8,
   "metadata": {},
   "outputs": [],
   "source": [
    "air_molecule_density = 2.68678e19 # (molecule/cm³)\n",
    "\n",
    "gases_density = atmosphere.compute_gases_density(air_molecule_density)"
   ]
  },
  {
   "cell_type": "markdown",
   "metadata": {},
   "source": [
    "#### Gases cross-sections"
   ]
  },
  {
   "cell_type": "code",
   "execution_count": 9,
   "metadata": {},
   "outputs": [],
   "source": [
    "# Obs: cross_sections (cm²/molecule)\n",
    "\n",
    "cross_sections_oxigen = {\n",
    "    '460nm': 8.37e-27,\n",
    "    '540nm': 4.27e-27,\n",
    "    '650nm': 2.17e-27,\n",
    "    '760nm': 2.79e-24, # https://uvvis.mpch-mainz.gwdg.de/uvvis/cross_sections/Oxygen/O2_Bogumil(2003)_293K_650-799.6nm.txt\n",
    "    '800nm': 1.55e-27, # https://uvvis.mpch-mainz.gwdg.de/uvvis/cross_sections/Oxygen/O2_Bogumil(2003)_293K_650-799.6nm.txt\n",
    "}\n",
    "\n",
    "cross_sections_methane = {\n",
    "    '460nm': 1.60e-27,\n",
    "    '540nm': 2.67e-26,\n",
    "    '650nm': 1.41e-26,\n",
    "    '760nm': 1.89e-26, # https://uvvis.mpch-mainz.gwdg.de/uvvis_data/cross_sections/Alkanes+alkyl%20radicals/Alkanes/CH4_Giver(1978)_293K_694.5-860.5nm.txt\n",
    "    '800nm': 3.35e-25,\n",
    "}"
   ]
  },
  {
   "cell_type": "markdown",
   "metadata": {},
   "source": [
    "#### Coefficients"
   ]
  },
  {
   "cell_type": "code",
   "execution_count": 10,
   "metadata": {},
   "outputs": [],
   "source": [
    "absorption_coefficient_oxigen = transmitance.compute_coefficients(cross_sections_oxigen, gases_density['oxigen'])\n",
    "absorption_coefficient_methane = transmitance.compute_coefficients(cross_sections_methane, gases_density['methane'])\n",
    "\n",
    "absorbtion_coefficient_air = transmitance.aggregate_coefficients(\n",
    "    [absorption_coefficient_oxigen, absorption_coefficient_methane]\n",
    ")"
   ]
  },
  {
   "cell_type": "markdown",
   "metadata": {},
   "source": [
    "#### Transmitance"
   ]
  },
  {
   "cell_type": "code",
   "execution_count": 11,
   "metadata": {},
   "outputs": [],
   "source": [
    "transmitance_absorption_oxigen = transmitance.compute_transmitance(optical_path_atmosphere, absorption_coefficient_oxigen)\n",
    "transmitance_absorption_methane = transmitance.compute_transmitance(optical_path_atmosphere, absorption_coefficient_methane)\n",
    "transmitance_absorption_air = transmitance.compute_transmitance(optical_path_atmosphere, absorbtion_coefficient_air)"
   ]
  },
  {
   "cell_type": "markdown",
   "metadata": {},
   "source": [
    "#### Attenuation"
   ]
  },
  {
   "cell_type": "code",
   "execution_count": 12,
   "metadata": {},
   "outputs": [],
   "source": [
    "attenuation_absorption_oxigen = transmitance.compute_attenuation(irradiance, transmitance_absorption_oxigen)\n",
    "attenuation_absorption_methane = transmitance.compute_attenuation(irradiance, transmitance_absorption_methane)\n",
    "attenuation_absorption_air = transmitance.compute_attenuation(irradiance, transmitance_absorption_air)"
   ]
  },
  {
   "cell_type": "markdown",
   "metadata": {},
   "source": [
    "#### Plots"
   ]
  },
  {
   "cell_type": "code",
   "execution_count": 13,
   "metadata": {},
   "outputs": [],
   "source": [
    "style = {\n",
    "    '460nm': {\n",
    "        'color': 'blue',\n",
    "        'line': 'solid'\n",
    "    },\n",
    "    '540nm': {\n",
    "        'color': 'green',\n",
    "        'line': 'solid'\n",
    "    },\n",
    "    '650nm': {\n",
    "        'color': 'red',\n",
    "        'line': 'solid'\n",
    "    },\n",
    "    '760nm': {\n",
    "        'color': 'red',\n",
    "        'line': 'dashed'\n",
    "    },\n",
    "    '800nm': {\n",
    "        'color': 'red',\n",
    "        'line': 'dashdot'\n",
    "    },\n",
    "}"
   ]
  },
  {
   "cell_type": "code",
   "execution_count": 14,
   "metadata": {},
   "outputs": [
    {
     "data": {
      "text/plain": [
       "array([<AxesSubplot:xlabel='transmitance', ylabel='altitude (m)'>,\n",
       "       <AxesSubplot:xlabel='irradiance (W/m².nm)', ylabel='altitude (m)'>],\n",
       "      dtype=object)"
      ]
     },
     "execution_count": 14,
     "metadata": {},
     "output_type": "execute_result"
    },
    {
     "data": {
      "image/png": "[encoded data removed]",
      "text/plain": [
       "<Figure size 1080x504 with 2 Axes>"
      ]
     },
     "metadata": {
      "needs_background": "light"
     },
     "output_type": "display_data"
    }
   ],
   "source": [
    "plots.plot_transmitance(transmitance=transmitance_absorption_oxigen,\n",
    "                        attenuation=attenuation_absorption_oxigen,\n",
    "                        altitude=altitude,\n",
    "                        style=style)"
   ]
  }
 ],
 "metadata": {
  "interpreter": {
   "hash": "9b400163043ab19975f10e09f3b8984b1b3e87fec69b728c00cc6ab14f929346"
  },
  "kernelspec": {
   "display_name": "Python 3.8.13 ('pfser_2022')",
   "language": "python",
   "name": "python3"
  },
  "language_info": {
   "codemirror_mode": {
    "name": "ipython",
    "version": 3
   },
   "file_extension": ".py",
   "mimetype": "text/x-python",
   "name": "python",
   "nbconvert_exporter": "python",
   "pygments_lexer": "ipython3",
   "version": "3.8.13"
  },
  "orig_nbformat": 4
 },
 "nbformat": 4,
 "nbformat_minor": 2
}
